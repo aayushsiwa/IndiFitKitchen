{
 "cells": [
  {
   "cell_type": "code",
   "execution_count": 2,
   "metadata": {},
   "outputs": [],
   "source": [
    "import pandas as pd\n",
    "\n",
    "df=pd.read_csv('IndianHealthyRecipe.csv')"
   ]
  },
  {
   "cell_type": "code",
   "execution_count": 3,
   "metadata": {},
   "outputs": [
    {
     "data": {
      "text/html": [
       "<div>\n",
       "<style scoped>\n",
       "    .dataframe tbody tr th:only-of-type {\n",
       "        vertical-align: middle;\n",
       "    }\n",
       "\n",
       "    .dataframe tbody tr th {\n",
       "        vertical-align: top;\n",
       "    }\n",
       "\n",
       "    .dataframe thead th {\n",
       "        text-align: right;\n",
       "    }\n",
       "</style>\n",
       "<table border=\"1\" class=\"dataframe\">\n",
       "  <thead>\n",
       "    <tr style=\"text-align: right;\">\n",
       "      <th></th>\n",
       "      <th>Dish Name</th>\n",
       "      <th>Description</th>\n",
       "      <th>Spice</th>\n",
       "      <th>Prep Time</th>\n",
       "      <th>Views</th>\n",
       "      <th>Rating</th>\n",
       "      <th>Number of Votes</th>\n",
       "      <th>Serves</th>\n",
       "      <th>Dietary Info</th>\n",
       "      <th>Cook Time</th>\n",
       "      <th>Ingredients</th>\n",
       "      <th>Instructions</th>\n",
       "    </tr>\n",
       "  </thead>\n",
       "  <tbody>\n",
       "    <tr>\n",
       "      <th>0</th>\n",
       "      <td>Pistachio chicken</td>\n",
       "      <td>Mild chicken in a creamy pistachio sauce</td>\n",
       "      <td>mild</td>\n",
       "      <td>Prep 10 mins</td>\n",
       "      <td>11604</td>\n",
       "      <td>4.1</td>\n",
       "      <td>18.0</td>\n",
       "      <td>4.0</td>\n",
       "      <td>['CONTAINS-NUTS']</td>\n",
       "      <td>30 mins</td>\n",
       "      <td>1) 600g chicken thighs, cut into chunks\\n2) 10...</td>\n",
       "      <td>1) Boil enough water to cover the pistachios, ...</td>\n",
       "    </tr>\n",
       "    <tr>\n",
       "      <th>1</th>\n",
       "      <td>Tangy Fried Okra</td>\n",
       "      <td>Bhindi with Amchoor</td>\n",
       "      <td>medium</td>\n",
       "      <td>Prep 10 mins</td>\n",
       "      <td>49899</td>\n",
       "      <td>4.6</td>\n",
       "      <td>35.0</td>\n",
       "      <td>4.0</td>\n",
       "      <td>['VEGETARIAN']</td>\n",
       "      <td>15 mins</td>\n",
       "      <td>1) 500g okra\\n2) 3 tbsp mustard oil\\n3) 1 onio...</td>\n",
       "      <td>1) Wash and thoroughly dry the okra (kitchen r...</td>\n",
       "    </tr>\n",
       "    <tr>\n",
       "      <th>2</th>\n",
       "      <td>Healthy Chicken Korma</td>\n",
       "      <td>Chicken in Creamy Almond Sauce</td>\n",
       "      <td>mild</td>\n",
       "      <td>Prep 10 mins</td>\n",
       "      <td>115569</td>\n",
       "      <td>3.6</td>\n",
       "      <td>163.0</td>\n",
       "      <td>4.0</td>\n",
       "      <td>['CONTAINS-NUTS']</td>\n",
       "      <td>20 mins</td>\n",
       "      <td>1) 6-8 tbsp natural yoghurt\\n2) 1 tsp turmeric...</td>\n",
       "      <td>1) Grind your whole spices in a spice grinder....</td>\n",
       "    </tr>\n",
       "    <tr>\n",
       "      <th>3</th>\n",
       "      <td>Brown Lentil Dhal</td>\n",
       "      <td>Sabut Masoor di Dhal</td>\n",
       "      <td>medium</td>\n",
       "      <td>Prep 10 mins</td>\n",
       "      <td>146798</td>\n",
       "      <td>3.7</td>\n",
       "      <td>87.0</td>\n",
       "      <td>4.0</td>\n",
       "      <td>['VEGETARIAN']</td>\n",
       "      <td>20 mins</td>\n",
       "      <td>1) 200g brown lentils\\n2) Approx. 1L of water\\n</td>\n",
       "      <td>1) Place the lentils in the pressure cooker wi...</td>\n",
       "    </tr>\n",
       "    <tr>\n",
       "      <th>4</th>\n",
       "      <td>Thari Wala Chicken</td>\n",
       "      <td>Healthy Chicken Curry</td>\n",
       "      <td>medium</td>\n",
       "      <td>Prep 10 mins</td>\n",
       "      <td>262696</td>\n",
       "      <td>3.5</td>\n",
       "      <td>343.0</td>\n",
       "      <td>4.0</td>\n",
       "      <td>['LACTOSE-FREE']</td>\n",
       "      <td>40 mins</td>\n",
       "      <td>1) 8 pieces of chicken (4 legs cut into thigh ...</td>\n",
       "      <td>1) Skin the chicken, removing any excess fat.\\...</td>\n",
       "    </tr>\n",
       "  </tbody>\n",
       "</table>\n",
       "</div>"
      ],
      "text/plain": [
       "               Dish Name                               Description   Spice  \\\n",
       "0      Pistachio chicken  Mild chicken in a creamy pistachio sauce    mild   \n",
       "1       Tangy Fried Okra                       Bhindi with Amchoor  medium   \n",
       "2  Healthy Chicken Korma            Chicken in Creamy Almond Sauce    mild   \n",
       "3      Brown Lentil Dhal                      Sabut Masoor di Dhal  medium   \n",
       "4     Thari Wala Chicken                     Healthy Chicken Curry  medium   \n",
       "\n",
       "      Prep Time   Views  Rating  Number of Votes  Serves       Dietary Info  \\\n",
       "0  Prep 10 mins   11604     4.1             18.0     4.0  ['CONTAINS-NUTS']   \n",
       "1  Prep 10 mins   49899     4.6             35.0     4.0     ['VEGETARIAN']   \n",
       "2  Prep 10 mins  115569     3.6            163.0     4.0  ['CONTAINS-NUTS']   \n",
       "3  Prep 10 mins  146798     3.7             87.0     4.0     ['VEGETARIAN']   \n",
       "4  Prep 10 mins  262696     3.5            343.0     4.0   ['LACTOSE-FREE']   \n",
       "\n",
       "  Cook Time                                        Ingredients  \\\n",
       "0   30 mins  1) 600g chicken thighs, cut into chunks\\n2) 10...   \n",
       "1   15 mins  1) 500g okra\\n2) 3 tbsp mustard oil\\n3) 1 onio...   \n",
       "2   20 mins  1) 6-8 tbsp natural yoghurt\\n2) 1 tsp turmeric...   \n",
       "3   20 mins    1) 200g brown lentils\\n2) Approx. 1L of water\\n   \n",
       "4   40 mins  1) 8 pieces of chicken (4 legs cut into thigh ...   \n",
       "\n",
       "                                        Instructions  \n",
       "0  1) Boil enough water to cover the pistachios, ...  \n",
       "1  1) Wash and thoroughly dry the okra (kitchen r...  \n",
       "2  1) Grind your whole spices in a spice grinder....  \n",
       "3  1) Place the lentils in the pressure cooker wi...  \n",
       "4  1) Skin the chicken, removing any excess fat.\\...  "
      ]
     },
     "execution_count": 3,
     "metadata": {},
     "output_type": "execute_result"
    }
   ],
   "source": [
    "df.head()"
   ]
  },
  {
   "cell_type": "code",
   "execution_count": 69,
   "metadata": {},
   "outputs": [
    {
     "name": "stderr",
     "output_type": "stream",
     "text": [
      "C:\\Users\\aayus\\AppData\\Local\\Temp\\ipykernel_7720\\3427122220.py:2: UserWarning: Boolean Series key will be reindexed to match DataFrame index.\n",
      "  df.head()[df.head()[\"Spice\"]==\"medium\"][df.head()[\"Dietary Info\"]=='[\\'VEGETARIAN\\']'].replace(\"medium\",\"🌶️\")\n"
     ]
    },
    {
     "data": {
      "text/html": [
       "<div>\n",
       "<style scoped>\n",
       "    .dataframe tbody tr th:only-of-type {\n",
       "        vertical-align: middle;\n",
       "    }\n",
       "\n",
       "    .dataframe tbody tr th {\n",
       "        vertical-align: top;\n",
       "    }\n",
       "\n",
       "    .dataframe thead th {\n",
       "        text-align: right;\n",
       "    }\n",
       "</style>\n",
       "<table border=\"1\" class=\"dataframe\">\n",
       "  <thead>\n",
       "    <tr style=\"text-align: right;\">\n",
       "      <th></th>\n",
       "      <th>Dish Name</th>\n",
       "      <th>Description</th>\n",
       "      <th>Spice</th>\n",
       "      <th>Prep Time</th>\n",
       "      <th>Views</th>\n",
       "      <th>Rating</th>\n",
       "      <th>Number of Votes</th>\n",
       "      <th>Serves</th>\n",
       "      <th>Dietary Info</th>\n",
       "      <th>Cook Time</th>\n",
       "      <th>Ingredients</th>\n",
       "      <th>Instructions</th>\n",
       "    </tr>\n",
       "  </thead>\n",
       "  <tbody>\n",
       "    <tr>\n",
       "      <th>1</th>\n",
       "      <td>Tangy Fried Okra</td>\n",
       "      <td>Bhindi with Amchoor</td>\n",
       "      <td>🌶️</td>\n",
       "      <td>Prep 10 mins</td>\n",
       "      <td>49899</td>\n",
       "      <td>4.6</td>\n",
       "      <td>35.0</td>\n",
       "      <td>4.0</td>\n",
       "      <td>['VEGETARIAN']</td>\n",
       "      <td>15 mins</td>\n",
       "      <td>1) 500g okra\\n2) 3 tbsp mustard oil\\n3) 1 onio...</td>\n",
       "      <td>1) Wash and thoroughly dry the okra (kitchen r...</td>\n",
       "    </tr>\n",
       "    <tr>\n",
       "      <th>3</th>\n",
       "      <td>Brown Lentil Dhal</td>\n",
       "      <td>Sabut Masoor di Dhal</td>\n",
       "      <td>🌶️</td>\n",
       "      <td>Prep 10 mins</td>\n",
       "      <td>146798</td>\n",
       "      <td>3.7</td>\n",
       "      <td>87.0</td>\n",
       "      <td>4.0</td>\n",
       "      <td>['VEGETARIAN']</td>\n",
       "      <td>20 mins</td>\n",
       "      <td>1) 200g brown lentils\\n2) Approx. 1L of water\\n</td>\n",
       "      <td>1) Place the lentils in the pressure cooker wi...</td>\n",
       "    </tr>\n",
       "  </tbody>\n",
       "</table>\n",
       "</div>"
      ],
      "text/plain": [
       "           Dish Name           Description Spice     Prep Time   Views  \\\n",
       "1   Tangy Fried Okra   Bhindi with Amchoor    🌶️  Prep 10 mins   49899   \n",
       "3  Brown Lentil Dhal  Sabut Masoor di Dhal    🌶️  Prep 10 mins  146798   \n",
       "\n",
       "   Rating  Number of Votes  Serves    Dietary Info Cook Time  \\\n",
       "1     4.6             35.0     4.0  ['VEGETARIAN']   15 mins   \n",
       "3     3.7             87.0     4.0  ['VEGETARIAN']   20 mins   \n",
       "\n",
       "                                         Ingredients  \\\n",
       "1  1) 500g okra\\n2) 3 tbsp mustard oil\\n3) 1 onio...   \n",
       "3    1) 200g brown lentils\\n2) Approx. 1L of water\\n   \n",
       "\n",
       "                                        Instructions  \n",
       "1  1) Wash and thoroughly dry the okra (kitchen r...  \n",
       "3  1) Place the lentils in the pressure cooker wi...  "
      ]
     },
     "execution_count": 69,
     "metadata": {},
     "output_type": "execute_result"
    }
   ],
   "source": [
    "# print dishes that have medium spice and dietary infor as 'Vegetarian'\n",
    "df.head()[df.head()[\"Spice\"]==\"medium\"][df.head()[\"Dietary Info\"]=='[\\'VEGETARIAN\\']'].replace(\"medium\",\"🌶️\")\n",
    "# df.head()[df.head()[\"Spice\"]==\"medium\"][\"Dietary Info\"]"
   ]
  },
  {
   "cell_type": "code",
   "execution_count": 100,
   "metadata": {},
   "outputs": [
    {
     "name": "stdout",
     "output_type": "stream",
     "text": [
      "Tangy Fried Okra has medium 🌶️ is ['VEGETARIAN'], ready in 10 minutes\n",
      "Brown Lentil Dhal has medium 🌶️ is ['VEGETARIAN'], ready in 10 minutes\n",
      "Aloo Bangun has medium 🌶️ is ['VEGETARIAN'], ready in 10 minutes\n",
      "Jeera Aloo has medium 🌶️ is ['VEGETARIAN'], ready in 15 minutes\n",
      "Mixed Vegetable Sabjee has medium 🌶️ is ['VEGETARIAN'], ready in 10 minutes\n",
      "Simply Spiced Seasonal Vegetables has medium 🌶️ is ['VEGETARIAN'], ready in 20 minutes\n",
      "Aloo Gobi has medium 🌶️ is ['VEGETARIAN'], ready in 10 minutes\n",
      "Aloo Muttar has medium 🌶️ is ['VEGETARIAN'], ready in 10 minutes\n",
      "Amchoor Stuffed Bangun has medium 🌶️ is ['VEGETARIAN'], ready in 5 minutes\n",
      "Athrak Soup has medium 🌶️ is ['VEGETARIAN'], ready in 5 minutes\n",
      "Black Chana Masala has medium 🌶️ is ['VEGETARIAN'], ready in 20 minutes\n",
      "Black Lentil and Split Chickpea Dhal has medium 🌶️ is ['VEGETARIAN'], ready in 10 minutes\n",
      "Chana Masala has medium 🌶️ is ['VEGETARIAN'], ready in 10 minutes\n",
      "Chole Bhatura has medium 🌶️ is ['VEGETARIAN'], ready in 10 minutes\n",
      "Dhal Makhani has medium 🌶️ is ['VEGETARIAN'], ready in 10 minutes\n",
      "Fennel and Tomato Shorba has medium 🌶️ is ['VEGETARIAN'], ready in 10 minutes\n"
     ]
    },
    {
     "ename": "ValueError",
     "evalue": "invalid literal for int() with base 10: '2 hrs 10'",
     "output_type": "error",
     "traceback": [
      "\u001b[1;31m---------------------------------------------------------------------------\u001b[0m",
      "\u001b[1;31mValueError\u001b[0m                                Traceback (most recent call last)",
      "Cell \u001b[1;32mIn[100], line 4\u001b[0m\n\u001b[0;32m      2\u001b[0m spice\u001b[38;5;241m=\u001b[39mdf[\u001b[38;5;124m\"\u001b[39m\u001b[38;5;124mSpice\u001b[39m\u001b[38;5;124m\"\u001b[39m][i]\n\u001b[0;32m      3\u001b[0m prep\u001b[38;5;241m=\u001b[39mdf[\u001b[38;5;124m'\u001b[39m\u001b[38;5;124mPrep Time\u001b[39m\u001b[38;5;124m'\u001b[39m][i]\u001b[38;5;241m.\u001b[39mreplace(\u001b[38;5;124m'\u001b[39m\u001b[38;5;124mmins\u001b[39m\u001b[38;5;124m'\u001b[39m,\u001b[38;5;124m'\u001b[39m\u001b[38;5;124m'\u001b[39m)\u001b[38;5;241m.\u001b[39mreplace(\u001b[38;5;124m'\u001b[39m\u001b[38;5;124mPrep\u001b[39m\u001b[38;5;124m'\u001b[39m,\u001b[38;5;124m'\u001b[39m\u001b[38;5;124m'\u001b[39m)\u001b[38;5;241m.\u001b[39mstrip()\n\u001b[1;32m----> 4\u001b[0m prep\u001b[38;5;241m=\u001b[39m\u001b[38;5;28;43mint\u001b[39;49m\u001b[43m(\u001b[49m\u001b[43mprep\u001b[49m\u001b[43m)\u001b[49m\n\u001b[0;32m      5\u001b[0m \u001b[38;5;28;01mif\u001b[39;00m spice\u001b[38;5;241m==\u001b[39m\u001b[38;5;124m\"\u001b[39m\u001b[38;5;124mmedium\u001b[39m\u001b[38;5;124m\"\u001b[39m \u001b[38;5;129;01mand\u001b[39;00m df[\u001b[38;5;124m\"\u001b[39m\u001b[38;5;124mDietary Info\u001b[39m\u001b[38;5;124m\"\u001b[39m][i]\u001b[38;5;241m==\u001b[39m\u001b[38;5;124m\"\u001b[39m\u001b[38;5;124m[\u001b[39m\u001b[38;5;130;01m\\'\u001b[39;00m\u001b[38;5;124mVEGETARIAN\u001b[39m\u001b[38;5;130;01m\\'\u001b[39;00m\u001b[38;5;124m]\u001b[39m\u001b[38;5;124m\"\u001b[39m \u001b[38;5;129;01mand\u001b[39;00m prep\u001b[38;5;241m<\u001b[39m\u001b[38;5;241m=\u001b[39m\u001b[38;5;241m30\u001b[39m:\n\u001b[0;32m      6\u001b[0m     \u001b[38;5;28mprint\u001b[39m(\u001b[38;5;124mf\u001b[39m\u001b[38;5;124m\"\u001b[39m\u001b[38;5;132;01m{\u001b[39;00mdf[\u001b[38;5;124m'\u001b[39m\u001b[38;5;124mDish Name\u001b[39m\u001b[38;5;124m'\u001b[39m][i]\u001b[38;5;132;01m}\u001b[39;00m\u001b[38;5;124m has \u001b[39m\u001b[38;5;132;01m{\u001b[39;00mdf[\u001b[38;5;124m'\u001b[39m\u001b[38;5;124mSpice\u001b[39m\u001b[38;5;124m'\u001b[39m][i]\u001b[38;5;132;01m}\u001b[39;00m\u001b[38;5;124m 🌶️ is \u001b[39m\u001b[38;5;132;01m{\u001b[39;00mdf[\u001b[38;5;124m'\u001b[39m\u001b[38;5;124mDietary Info\u001b[39m\u001b[38;5;124m'\u001b[39m][i]\u001b[38;5;132;01m}\u001b[39;00m\u001b[38;5;124m, ready in \u001b[39m\u001b[38;5;132;01m{\u001b[39;00mprep\u001b[38;5;132;01m}\u001b[39;00m\u001b[38;5;124m minutes\u001b[39m\u001b[38;5;124m\"\u001b[39m)\n",
      "\u001b[1;31mValueError\u001b[0m: invalid literal for int() with base 10: '2 hrs 10'"
     ]
    }
   ],
   "source": [
    "for i in range(len(df)):\n",
    "    spice=df[\"Spice\"][i]\n",
    "    prep=df['Prep Time'][i].replace('mins','').replace('Prep','').strip()\n",
    "    prep=int(prep)\n",
    "    \n",
    "    if spice==\"medium\" and df[\"Dietary Info\"][i]==\"[\\'VEGETARIAN\\']\" and prep<=30:\n",
    "        print(f\"{df['Dish Name'][i]} has {df['Spice'][i]} 🌶️ is {df['Dietary Info'][i]}, ready in {prep} minutes\")"
   ]
  },
  {
   "cell_type": "code",
   "execution_count": 136,
   "metadata": {},
   "outputs": [
    {
     "name": "stdout",
     "output_type": "stream",
     "text": [
      "2880 mins\n",
      "2890 mins\n",
      "120 mins\n",
      "130 mins\n"
     ]
    }
   ],
   "source": [
    "time=\"2 days\"\n",
    "if \"day\" in time:\n",
    "    time=time.replace('days','').strip()\n",
    "    time=int(time)*24*60\n",
    "print(time,\"mins\")\n",
    "time=\"2 days 10 mins\"\n",
    "if \"day\" and \"min\" in time:\n",
    "    time=time.replace('days',':').replace('mins','').strip()\n",
    "    time=time.split(':')\n",
    "    time=int(time[0])*24*60+int(time[1])\n",
    "print(time,\"mins\")\n",
    "time=\"2 hours\"\n",
    "if \"hour\" in time:\n",
    "    time=time.replace('hours','').strip()\n",
    "    time=int(time)*60\n",
    "print(time,\"mins\")\n",
    "time=\"2 hours 10 mins\"\n",
    "if \"hour\" and \"min\" in time:\n",
    "    time=time.replace('hours',':').replace('mins','').strip()\n",
    "    time=time.split(':')\n",
    "    time=int(time[0])*60+int(time[1])\n",
    "print(time,\"mins\")"
   ]
  },
  {
   "cell_type": "code",
   "execution_count": null,
   "metadata": {},
   "outputs": [],
   "source": []
  },
  {
   "cell_type": "code",
   "execution_count": null,
   "metadata": {},
   "outputs": [],
   "source": []
  },
  {
   "cell_type": "code",
   "execution_count": null,
   "metadata": {},
   "outputs": [],
   "source": []
  },
  {
   "cell_type": "code",
   "execution_count": null,
   "metadata": {},
   "outputs": [],
   "source": []
  },
  {
   "cell_type": "code",
   "execution_count": null,
   "metadata": {},
   "outputs": [],
   "source": []
  },
  {
   "cell_type": "code",
   "execution_count": null,
   "metadata": {},
   "outputs": [],
   "source": []
  },
  {
   "cell_type": "code",
   "execution_count": null,
   "metadata": {},
   "outputs": [],
   "source": []
  },
  {
   "cell_type": "code",
   "execution_count": null,
   "metadata": {},
   "outputs": [],
   "source": []
  },
  {
   "cell_type": "code",
   "execution_count": null,
   "metadata": {},
   "outputs": [],
   "source": []
  },
  {
   "cell_type": "code",
   "execution_count": null,
   "metadata": {},
   "outputs": [],
   "source": []
  }
 ],
 "metadata": {
  "kernelspec": {
   "display_name": "Python 3",
   "language": "python",
   "name": "python3"
  },
  "language_info": {
   "codemirror_mode": {
    "name": "ipython",
    "version": 3
   },
   "file_extension": ".py",
   "mimetype": "text/x-python",
   "name": "python",
   "nbconvert_exporter": "python",
   "pygments_lexer": "ipython3",
   "version": "3.11.3"
  }
 },
 "nbformat": 4,
 "nbformat_minor": 2
}
